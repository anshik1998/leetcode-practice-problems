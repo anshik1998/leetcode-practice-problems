{
 "cells": [
  {
   "cell_type": "markdown",
   "id": "japanese-titanium",
   "metadata": {},
   "source": [
    "# Python Solution"
   ]
  },
  {
   "cell_type": "markdown",
   "id": "unlikely-monster",
   "metadata": {},
   "source": [
    "\n"
   ]
  },
  {
   "cell_type": "code",
   "execution_count": null,
   "id": "helpful-turtle",
   "metadata": {},
   "outputs": [],
   "source": [
    "#Given Problem:\n",
    "\n",
    "# Given a valid (IPv4) IP address, return a defanged version of that IP address.\n",
    "# A defanged IP address replaces every period \".\" with \"[.]\"."
   ]
  },
  {
   "cell_type": "markdown",
   "id": "natural-antigua",
   "metadata": {},
   "source": [
    "\n"
   ]
  },
  {
   "cell_type": "code",
   "execution_count": null,
   "id": "sound-boston",
   "metadata": {},
   "outputs": [],
   "source": [
    "# Runtime: 28 ms, faster than 81.90% of Python3 online submissions for Defanging an IP Address.\n",
    "# Memory Usage: 14.3 MB, less than 37.14% of Python3 online submissions for Defanging an IP Address.\n",
    "\n",
    "# Self-Written Solution # Pythonic Solution\n",
    "\n",
    "# Time Complexity: O(N) for replace function\n",
    "# Space Complexity: O(1) Inplace Solution\n",
    "\n",
    "class Solution:\n",
    "    def defangIPaddr(self, address: str) -> str:\n",
    "        address = address.replace(\".\", \"[.]\")\n",
    "        return address"
   ]
  },
  {
   "cell_type": "code",
   "execution_count": 10,
   "id": "found-manchester",
   "metadata": {
    "scrolled": true
   },
   "outputs": [
    {
     "name": "stdout",
     "output_type": "stream",
     "text": [
      "255[.]100[.]50[.]0\n"
     ]
    }
   ],
   "source": [
    "# Self-Written Solution\n",
    "# Without using in-built replace() function\n",
    "# Result is amazing!\n",
    "\n",
    "# Runtime: 24 ms, faster than 94.40% of Python3 online submissions for Defanging an IP Address.\n",
    "# Memory Usage: 14.1 MB, less than 67.77% of Python3 online submissions for Defanging an IP Address.\n",
    "\n",
    "# Time Complexity: O(N) for loop\n",
    "# Space Complexity: O(1) Inplace Solution\n",
    "\n",
    "class Solution:\n",
    "    def defangIPaddr(self, address: str) -> str:\n",
    "        address = list(address)  # Most probably, it's O(1), as it's an inplace eventhough we created a list of size N.\n",
    "        for index, value in enumerate(address):\n",
    "            if value == \".\":\n",
    "                address[index] = \"[.]\"\n",
    "            else:\n",
    "                continue\n",
    "                \n",
    "        address = ''.join(address)\n",
    "        return address\n",
    "        \n",
    "        \n",
    "print(Solution.defangIPaddr(Solution, \"255.100.50.0\"))"
   ]
  },
  {
   "cell_type": "code",
   "execution_count": null,
   "id": "perfect-gambling",
   "metadata": {},
   "outputs": [],
   "source": []
  }
 ],
 "metadata": {
  "kernelspec": {
   "display_name": "Python 3",
   "language": "python",
   "name": "python3"
  },
  "language_info": {
   "codemirror_mode": {
    "name": "ipython",
    "version": 3
   },
   "file_extension": ".py",
   "mimetype": "text/x-python",
   "name": "python",
   "nbconvert_exporter": "python",
   "pygments_lexer": "ipython3",
   "version": "3.9.1"
  }
 },
 "nbformat": 4,
 "nbformat_minor": 5
}
