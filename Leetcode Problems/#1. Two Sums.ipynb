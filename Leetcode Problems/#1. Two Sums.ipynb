{
 "cells": [
  {
   "cell_type": "markdown",
   "id": "every-server",
   "metadata": {},
   "source": [
    "# Python Solution"
   ]
  },
  {
   "cell_type": "code",
   "execution_count": null,
   "id": "orange-eugene",
   "metadata": {},
   "outputs": [],
   "source": [
    "# Time Complexity: O(N)\n",
    "# Space Complexity: O(N)\n",
    "\n",
    "class Solution:\n",
    "    def twoSum(self, nums: List[int], target: int) -> List[int]:\n",
    "        for a, val in enumerate(nums):\n",
    "            difference = target - val\n",
    "            if difference in nums:\n",
    "                b = nums.index(difference)\n",
    "                output = list((b, a))\n",
    "                break\n",
    "        \n",
    "        return output"
   ]
  },
  {
   "cell_type": "code",
   "execution_count": null,
   "id": "working-actress",
   "metadata": {},
   "outputs": [],
   "source": [
    "class Solution:\n",
    "    def twoSum(nums, target):\n",
    "        di = {}\n",
    "        for index in range(0, len(nums)):\n",
    "            difference = target - nums[index]\n",
    "            if difference in di:\n",
    "                return [di[difference], index]\n",
    "            di[nums[index]] = index\n",
    "            \n",
    "        return []\n",
    "\n",
    "\n",
    "nums = [2,7,11,15]\n",
    "target = 9\n",
    "print(Solution.twoSum(nums, target))"
   ]
  }
 ],
 "metadata": {
  "kernelspec": {
   "display_name": "Python 3",
   "language": "python",
   "name": "python3"
  },
  "language_info": {
   "codemirror_mode": {
    "name": "ipython",
    "version": 3
   },
   "file_extension": ".py",
   "mimetype": "text/x-python",
   "name": "python",
   "nbconvert_exporter": "python",
   "pygments_lexer": "ipython3",
   "version": "3.9.1"
  }
 },
 "nbformat": 4,
 "nbformat_minor": 5
}
