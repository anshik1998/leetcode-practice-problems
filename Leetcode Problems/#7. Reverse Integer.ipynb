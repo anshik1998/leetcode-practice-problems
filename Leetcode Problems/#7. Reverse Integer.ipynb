{
 "cells": [
  {
   "cell_type": "markdown",
   "id": "dominant-mystery",
   "metadata": {},
   "source": [
    "# Python Solution"
   ]
  },
  {
   "cell_type": "markdown",
   "id": "funky-scanner",
   "metadata": {},
   "source": [
    "\n"
   ]
  },
  {
   "cell_type": "markdown",
   "id": "protective-winner",
   "metadata": {},
   "source": [
    "## Interesting Fact:\n",
    "\n",
    "### Python\n",
    "\n",
    "-123 % 10 = 7\n",
    "-124 % 10 = 6\n",
    "\n",
    "### C++\n",
    "\n",
    "-123 % 10 = 3"
   ]
  },
  {
   "cell_type": "markdown",
   "id": "technical-front",
   "metadata": {},
   "source": [
    "\n"
   ]
  },
  {
   "cell_type": "code",
   "execution_count": null,
   "id": "secret-webcam",
   "metadata": {},
   "outputs": [],
   "source": [
    "# Given a signed 32-bit integer x, return x with its digits reversed. \n",
    "# If reversing x causes the value to go outside the signed 32-bit integer range [-231, 231 - 1], then return 0.\n",
    "\n",
    "# Assume the environment does not allow you to store 64-bit integers (signed or unsigned)."
   ]
  },
  {
   "cell_type": "code",
   "execution_count": null,
   "id": "southern-interaction",
   "metadata": {},
   "outputs": [],
   "source": [
    "# Example 1:\n",
    "\n",
    "# Input: x = 123\n",
    "# Output: 321"
   ]
  },
  {
   "cell_type": "code",
   "execution_count": null,
   "id": "boring-bolivia",
   "metadata": {},
   "outputs": [],
   "source": [
    "# Time Complexity = O(log10N) [While loop operation]\n",
    "# Space Complexity = O(N) [Storing Reversed Number]\n",
    "\n",
    "class Solution:\n",
    "    def reverse(value):\n",
    "        \n",
    "        if value < 0:\n",
    "            value = -1 * value\n",
    "            y = -1\n",
    "        else:\n",
    "            y = 0\n",
    "            \n",
    "        reversed_number = 0    \n",
    "        \n",
    "        while(value != 0):\n",
    "            reversed_number *= 10\n",
    "            last_digit = value % 10\n",
    "            reversed_number += last_digit\n",
    "            value = value // 10\n",
    "            \n",
    "        if y < 0:\n",
    "            reversed_number = -1 * reversed_number\n",
    "            \n",
    "        return reversed_number if (-2**31) < reversed_number < (2**31) else 0\n",
    "    \n",
    "print(Solution.reverse(123))"
   ]
  },
  {
   "cell_type": "code",
   "execution_count": null,
   "id": "together-edition",
   "metadata": {},
   "outputs": [],
   "source": [
    "# Pythonic Solution\n",
    "\n",
    "# Time Complexity = O(N) [Slicing operation takes O(N)]\n",
    "# Space Complexity = O(N) [Storing Result]\n",
    "\n",
    "class Solution:\n",
    "    def reverse(value):\n",
    "        \n",
    "        # Assign sign = 1 if value is greater than 0, else assign sign = -1\n",
    "        sign = [1,-1][value < 0]\n",
    "        \n",
    "        result = sign * int(str(abs(value))[::-1])\n",
    "        return result if -(2**31)-1 < result < 2**31 else 0\n",
    "    \n",
    "print(Solution.reverse(123))"
   ]
  },
  {
   "cell_type": "markdown",
   "id": "wrong-affair",
   "metadata": {},
   "source": [
    "#    C++ Solution"
   ]
  },
  {
   "cell_type": "markdown",
   "id": "expected-theme",
   "metadata": {},
   "source": [
    "\n"
   ]
  },
  {
   "cell_type": "code",
   "execution_count": null,
   "id": "seven-absence",
   "metadata": {},
   "outputs": [],
   "source": [
    "class Solution {\n",
    "public:\n",
    "    int reverse(int number){\n",
    "    long int reversed_number = 0;\n",
    "    while (number){\n",
    "        reversed_number = reversed_number * 10 + (number % 10);\n",
    "        number = number / 10;\n",
    "    }\n",
    "        \n",
    "    if (reversed_number > INT_MAX || reversed_number < INT_MIN){\n",
    "        return 0;\n",
    "        }\n",
    "        \n",
    "    else{\n",
    "        return reversed_number;\n",
    "        }\n",
    "    }\n",
    "        \n",
    "};"
   ]
  }
 ],
 "metadata": {
  "kernelspec": {
   "display_name": "Python 3",
   "language": "python",
   "name": "python3"
  },
  "language_info": {
   "codemirror_mode": {
    "name": "ipython",
    "version": 3
   },
   "file_extension": ".py",
   "mimetype": "text/x-python",
   "name": "python",
   "nbconvert_exporter": "python",
   "pygments_lexer": "ipython3",
   "version": "3.9.1"
  }
 },
 "nbformat": 4,
 "nbformat_minor": 5
}
