{
 "cells": [
  {
   "cell_type": "markdown",
   "id": "sitting-crystal",
   "metadata": {},
   "source": [
    "# Python Solution"
   ]
  },
  {
   "cell_type": "markdown",
   "id": "opponent-garage",
   "metadata": {},
   "source": [
    "\n"
   ]
  },
  {
   "cell_type": "code",
   "execution_count": null,
   "id": "consecutive-tourism",
   "metadata": {},
   "outputs": [],
   "source": [
    "# Given Problem:\n",
    "\n",
    "# Given an array nums of integers, return how many of them contain an even number of digits."
   ]
  },
  {
   "cell_type": "markdown",
   "id": "beautiful-admission",
   "metadata": {},
   "source": [
    "\n"
   ]
  },
  {
   "cell_type": "code",
   "execution_count": 2,
   "id": "south-discretion",
   "metadata": {},
   "outputs": [],
   "source": [
    "# Runtime: 52 ms, faster than 76.05% of Python3 online submissions for Find Numbers with Even Number of Digits.\n",
    "# Memory Usage: 14.4 MB, less than 11.12% of Python3 online submissions for Find Numbers with Even Number of Digits.\n",
    "\n",
    "# Time Complexity: O(N)\n",
    "# Space Complexity: O(1)\n",
    "# Self Written\n",
    "\n",
    "class Solution:\n",
    "    def findNumbers(self, nums: List[int]) -> int:\n",
    "        count = 0\n",
    "        for num in nums:\n",
    "            if len(str(num)) % 2 == 0:\n",
    "                count += 1\n",
    "        else:\n",
    "            pass\n",
    "        \n",
    "        return count"
   ]
  },
  {
   "cell_type": "code",
   "execution_count": 1,
   "id": "dutch-bidder",
   "metadata": {},
   "outputs": [
    {
     "name": "stdout",
     "output_type": "stream",
     "text": [
      "2\n"
     ]
    }
   ],
   "source": [
    "# Leetcode Solution [Originally in Java]\n",
    "# Solution based on given Constraints\n",
    "\n",
    "# Runtime: 56 ms, faster than 47.28% of Python3 online submissions for Find Numbers with Even Number of Digits.\n",
    "# Memory Usage: 14.4 MB, less than 11.12% of Python3 online submissions for Find Numbers with Even Number of Digits.\n",
    "\n",
    "# Constraints:\n",
    "\n",
    "# 1 <= nums.length <= 500\n",
    "# 1 <= nums[i] <= 10^5\n",
    "\n",
    "# Time Complexity: O(N)\n",
    "# Space Complexity: O(1)\n",
    "\n",
    "class Solution:\n",
    "    def findNumbers(self, nums: List[int]) -> int:\n",
    "        count = 0\n",
    "        for num in nums:\n",
    "            if (num in range(10, 100)) or (num in range(1000, 10000) or num == 100000):\n",
    "                count += 1\n",
    "            else:\n",
    "                pass\n",
    "            \n",
    "        return count"
   ]
  },
  {
   "cell_type": "code",
   "execution_count": 3,
   "id": "crucial-audit",
   "metadata": {},
   "outputs": [
    {
     "name": "stdout",
     "output_type": "stream",
     "text": [
      "2\n"
     ]
    }
   ],
   "source": [
    "# Runtime: 52 ms, faster than 76.05% of Python3 online submissions for Find Numbers with Even Number of Digits.\n",
    "# Memory Usage: 14.5 MB, less than 11.12% of Python3 online submissions for Find Numbers with Even Number of Digits.\n",
    "\n",
    "class Solution:\n",
    "    def findNumbers(self, nums: List[int]) -> int:\n",
    "        count = 0\n",
    "        for num in nums:\n",
    "            figure = Solution.getFigureCount(self, num)\n",
    "            if figure % 2 == 0:\n",
    "                count += 1\n",
    "            else:\n",
    "                pass\n",
    "        return count\n",
    "            \n",
    "    def getFigureCount(self, num):\n",
    "        figure_count = 0\n",
    "        while num:\n",
    "            num = num // 10\n",
    "            figure_count += 1\n",
    "        return figure_count"
   ]
  }
 ],
 "metadata": {
  "kernelspec": {
   "display_name": "Python 3",
   "language": "python",
   "name": "python3"
  },
  "language_info": {
   "codemirror_mode": {
    "name": "ipython",
    "version": 3
   },
   "file_extension": ".py",
   "mimetype": "text/x-python",
   "name": "python",
   "nbconvert_exporter": "python",
   "pygments_lexer": "ipython3",
   "version": "3.9.1"
  }
 },
 "nbformat": 4,
 "nbformat_minor": 5
}
