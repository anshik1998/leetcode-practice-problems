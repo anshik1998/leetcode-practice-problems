{
 "cells": [
  {
   "cell_type": "markdown",
   "id": "disabled-envelope",
   "metadata": {},
   "source": [
    "\n"
   ]
  },
  {
   "cell_type": "code",
   "execution_count": null,
   "id": "quiet-password",
   "metadata": {},
   "outputs": [],
   "source": [
    "#Given Problem:\n",
    "\n",
    "# Given an array of integers arr, and three integers a, b and c. You need to find the number of good triplets.\n",
    "# A triplet (arr[i], arr[j], arr[k]) is good if the following conditions are true:\n",
    "\n",
    "# 0 <= i < j < k < arr.length\n",
    "# |arr[i] - arr[j]| <= a\n",
    "# |arr[j] - arr[k]| <= b\n",
    "# |arr[i] - arr[k]| <= c\n",
    "# Where |x| denotes the absolute value of x.\n",
    "\n",
    "# Return the number of good triplets."
   ]
  },
  {
   "cell_type": "markdown",
   "id": "painful-headline",
   "metadata": {},
   "source": [
    "\n"
   ]
  },
  {
   "cell_type": "code",
   "execution_count": null,
   "id": "emotional-index",
   "metadata": {},
   "outputs": [],
   "source": [
    "# Runtime: 684 ms, faster than 49.39% of Python3 online submissions for Count Good Triplets.\n",
    "# Memory Usage: 14.4 MB, less than 41.41% of Python3 online submissions for Count Good Triplets.\n",
    "\n",
    "# Brute Force Approach - Self Written\n",
    "# Time Complexity: O(N^3)\n",
    "# Space Complexity: O(1)\n",
    "\n",
    "class Solution:\n",
    "    def countGoodTriplets(self, arr: List[int], a: int, b: int, c: int) -> int:\n",
    "        count = 0\n",
    "        for i in range(len(arr)-2):\n",
    "            for j in range(i+1, len(arr)):\n",
    "                for k in range(j+1, len(arr)):\n",
    "                    if (abs(arr[i] - arr[j]) <= a) and (abs(arr[j] - arr[k]) <= b) and (abs(arr[i] - arr[k]) <= c):\n",
    "                        count += 1\n",
    "        return count"
   ]
  },
  {
   "cell_type": "code",
   "execution_count": null,
   "id": "white-submission",
   "metadata": {},
   "outputs": [],
   "source": [
    "# Time Complexity: O(N^3), but optimized than the previous solution\n",
    "# Self Written\n",
    "\n",
    "class Solution:\n",
    "    def countGoodTriplets(self, arr: List[int], a: int, b: int, c: int) -> int:\n",
    "        count = 0\n",
    "        for i in range(len(arr)-2):\n",
    "            for j in range(i+1, len(arr)):\n",
    "                if abs(arr[i] - arr[j]) > a:\n",
    "                    continue\n",
    "                for k in range(j+1, len(arr)):\n",
    "                    if abs(arr[j] - arr[k]) > b:\n",
    "                        continue\n",
    "                    if (abs(arr[i] - arr[j]) <= a) and (abs(arr[j] - arr[k]) <= b) and (abs(arr[i] - arr[k]) <= c):\n",
    "                        count += 1\n",
    "        return count\n",
    "    \n",
    "print(Solution.countGoodTriplets(Solution, [3,0,1,1,9,7], 7, 2, 3))"
   ]
  },
  {
   "cell_type": "code",
   "execution_count": null,
   "id": "warming-arnold",
   "metadata": {},
   "outputs": [],
   "source": [
    "# Leetcode Solution [Using Fenwick Tree- Need to learn!]\n",
    "# Time Complexity: O(an * log n) [as per given solution, I can't even figure out time complexity for this solution :p]\n",
    "\n",
    "class Fenv {\n",
    "        private int[] tree;\n",
    "\n",
    "        public int getSum(int i, int j) {\n",
    "            return getSum(j) - getSum(i-1);\n",
    "        }\n",
    "            \n",
    "        public int getSum(int idx) {\n",
    "            int res = 0;\n",
    "            for (int i = idx + 1; i > 0; i -= i&(-i)) \n",
    "                res += tree[i];\n",
    "            return res;\n",
    "        }\n",
    "        \n",
    "        public void add(int idx, int val) {\n",
    "            for (int i = idx + 1; i < tree.length; i += i&(-i)) \n",
    "                tree[i] += val;\n",
    "        }\n",
    "        \n",
    "        public Fenv(int size) {\n",
    "            tree = new int[size+1];\n",
    "        }\n",
    "    }"
   ]
  }
 ],
 "metadata": {
  "kernelspec": {
   "display_name": "Python 3",
   "language": "python",
   "name": "python3"
  },
  "language_info": {
   "codemirror_mode": {
    "name": "ipython",
    "version": 3
   },
   "file_extension": ".py",
   "mimetype": "text/x-python",
   "name": "python",
   "nbconvert_exporter": "python",
   "pygments_lexer": "ipython3",
   "version": "3.9.1"
  }
 },
 "nbformat": 4,
 "nbformat_minor": 5
}
