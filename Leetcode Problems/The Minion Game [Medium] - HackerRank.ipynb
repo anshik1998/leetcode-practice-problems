{
 "cells": [
  {
   "cell_type": "code",
   "execution_count": 28,
   "id": "clean-buddy",
   "metadata": {},
   "outputs": [
    {
     "name": "stdout",
     "output_type": "stream",
     "text": [
      "Stuart 12\n"
     ]
    }
   ],
   "source": [
    "def minion_game(strings):\n",
    "    kevin_main_counter = 0\n",
    "    stuart_main_counter = 0\n",
    "    vowels = \"A\", \"E\", \"I\", \"O\", \"U\"\n",
    "    for index in range(len(strings)):\n",
    "        if strings[index] in vowels:\n",
    "            kevin_main_counter += len(strings) - index\n",
    "\n",
    "        else:\n",
    "            stuart_main_counter += len(strings) - index\n",
    "            \n",
    "    # Results:\n",
    "    \n",
    "    if kevin_main_counter > stuart_main_counter:\n",
    "        print(\"Kevin \" + str(kevin_main_counter))\n",
    "    elif kevin_main_counter == stuart_main_counter:\n",
    "        print(\"Draw\")\n",
    "    else:\n",
    "        print(\"Stuart \" + str(stuart_main_counter))\n",
    "\n",
    "if __name__ == '__main__':\n",
    "    # s = input()\n",
    "    minion_game(\"BANANA\")"
   ]
  },
  {
   "cell_type": "code",
   "execution_count": 30,
   "id": "blank-shirt",
   "metadata": {},
   "outputs": [
    {
     "name": "stdout",
     "output_type": "stream",
     "text": [
      "Stuart 12\n"
     ]
    }
   ],
   "source": [
    "# Previously Written Code\n",
    "\n",
    "def minion_game(strings):\n",
    "    kevin_main_counter = 0\n",
    "    stuart_main_counter = 0\n",
    "    vowels = \"A\", \"E\", \"I\", \"O\", \"U\"\n",
    "    for index, string in enumerate(strings):\n",
    "        if string in vowels:\n",
    "            for i in range(0, len(strings)-index):\n",
    "                kevin_counter = 0\n",
    "                element = strings[index:index+1]\n",
    "                if element in strings:\n",
    "                    kevin_counter += 1\n",
    "                kevin_main_counter += kevin_counter\n",
    "        \n",
    "        else:\n",
    "            for i in range(0, len(strings)-index):\n",
    "                stuart_counter = 0\n",
    "                element = strings[index:index+1]\n",
    "                if element in strings:\n",
    "                    stuart_counter += 1\n",
    "                stuart_main_counter += stuart_counter\n",
    "            \n",
    "    \n",
    "    # Results:\n",
    "    \n",
    "    if kevin_main_counter > stuart_main_counter:\n",
    "        print(\"Kevin \" + str(kevin_main_counter))\n",
    "    elif kevin_main_counter == stuart_main_counter:\n",
    "        print(\"Draw\")\n",
    "    else:\n",
    "        print(\"Stuart \" + str(stuart_main_counter))\n",
    "        \n",
    "        \n",
    "if __name__ == '__main__':\n",
    "    # s = input()\n",
    "    minion_game(\"BANANA\")"
   ]
  },
  {
   "cell_type": "code",
   "execution_count": null,
   "id": "attached-malaysia",
   "metadata": {},
   "outputs": [],
   "source": []
  }
 ],
 "metadata": {
  "kernelspec": {
   "display_name": "Python 3",
   "language": "python",
   "name": "python3"
  },
  "language_info": {
   "codemirror_mode": {
    "name": "ipython",
    "version": 3
   },
   "file_extension": ".py",
   "mimetype": "text/x-python",
   "name": "python",
   "nbconvert_exporter": "python",
   "pygments_lexer": "ipython3",
   "version": "3.9.1"
  }
 },
 "nbformat": 4,
 "nbformat_minor": 5
}
