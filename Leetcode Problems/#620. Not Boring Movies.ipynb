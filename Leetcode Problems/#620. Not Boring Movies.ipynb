{
 "cells": [
  {
   "cell_type": "markdown",
   "id": "unusual-spell",
   "metadata": {},
   "source": [
    "# SQL"
   ]
  },
  {
   "cell_type": "code",
   "execution_count": null,
   "id": "experimental-pointer",
   "metadata": {},
   "outputs": [],
   "source": [
    "Given Problem:\n",
    "\n",
    "X city opened a new cinema, many people would like to go to this cinema. \n",
    "The cinema also gives out a poster indicating the movies’ ratings and descriptions.\n",
    "Please write a SQL query to output movies with an odd numbered ID and \n",
    "a description that is not 'boring'. Order the result by rating.\n",
    "\n",
    "For example, table cinema:\n",
    "\n",
    "+---------+-----------+--------------+-----------+\n",
    "|   id    | movie     |  description |  rating   |\n",
    "+---------+-----------+--------------+-----------+\n",
    "|   1     | War       |   great 3D   |   8.9     |\n",
    "|   2     | Science   |   fiction    |   8.5     |\n",
    "|   3     | irish     |   boring     |   6.2     |\n",
    "|   4     | Ice song  |   Fantacy    |   8.6     |\n",
    "|   5     | House card|   Interesting|   9.1     |\n",
    "+---------+-----------+--------------+-----------+\n",
    "For the example above, the output should be:\n",
    "+---------+-----------+--------------+-----------+\n",
    "|   id    | movie     |  description |  rating   |\n",
    "+---------+-----------+--------------+-----------+\n",
    "|   5     | House card|   Interesting|   9.1     |\n",
    "|   1     | War       |   great 3D   |   8.9     |\n",
    "+---------+-----------+--------------+-----------+"
   ]
  },
  {
   "cell_type": "code",
   "execution_count": null,
   "id": "embedded-andrew",
   "metadata": {},
   "outputs": [],
   "source": []
  },
  {
   "cell_type": "code",
   "execution_count": null,
   "id": "african-clearance",
   "metadata": {},
   "outputs": [],
   "source": [
    "# One Way: Using != Operator\n",
    "\n",
    "# Runtime: 241 ms\n",
    "# Memory Usage: 0B\n",
    "\n",
    "SELECT * FROM CINEMA WHERE (id % 2 != 0) AND (description != \"boring\") ORDER BY rating DESC"
   ]
  },
  {
   "cell_type": "code",
   "execution_count": null,
   "id": "occasional-gather",
   "metadata": {},
   "outputs": [],
   "source": [
    "# Other Way: Using <> Not operator\n",
    "\n",
    "# Runtime: 335 ms\n",
    "# Memory Usage: 0B\n",
    "\n",
    "SELECT * FROM cinema WHERE (id % 2 = 1) AND (description <> 'boring') ORDER BY rating DESC"
   ]
  },
  {
   "cell_type": "code",
   "execution_count": null,
   "id": "textile-italian",
   "metadata": {},
   "outputs": [],
   "source": [
    "# Other way round: [FASTEST ABOVE ALL]\n",
    "# Using 'NOT IN Operator', and assigning 'Cinema as C'\n",
    "\n",
    "# Runtime: 160 ms\n",
    "# Memory Usage: 0B\n",
    "\n",
    "SELECT * FROM CINEMA C WHERE C.id  mod 2 = 1 AND C.description NOT IN ('boring') ORDER BY C.rating DESC"
   ]
  }
 ],
 "metadata": {
  "kernelspec": {
   "display_name": "Python 3",
   "language": "python",
   "name": "python3"
  },
  "language_info": {
   "codemirror_mode": {
    "name": "ipython",
    "version": 3
   },
   "file_extension": ".py",
   "mimetype": "text/x-python",
   "name": "python",
   "nbconvert_exporter": "python",
   "pygments_lexer": "ipython3",
   "version": "3.9.1"
  }
 },
 "nbformat": 4,
 "nbformat_minor": 5
}
