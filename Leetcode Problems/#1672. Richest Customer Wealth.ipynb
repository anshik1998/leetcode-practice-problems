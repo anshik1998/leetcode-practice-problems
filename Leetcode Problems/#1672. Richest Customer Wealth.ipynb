{
 "cells": [
  {
   "cell_type": "markdown",
   "id": "asian-incentive",
   "metadata": {},
   "source": [
    "# Python Solution"
   ]
  },
  {
   "cell_type": "code",
   "execution_count": null,
   "id": "changing-nurse",
   "metadata": {},
   "outputs": [],
   "source": [
    "# Given Problem:\n",
    "\n",
    "# You are given an m x n integer grid accounts where accounts[i][j] is the amount of money \n",
    "# the ith customer has in the jth bank. Return the wealth that the richest customer has.\n",
    "\n",
    "# A customer's wealth is the amount of money they have in all their bank accounts. \n",
    "# The richest customer is the customer that has the maximum wealth."
   ]
  },
  {
   "cell_type": "markdown",
   "id": "adjusted-attendance",
   "metadata": {},
   "source": [
    "\n"
   ]
  },
  {
   "cell_type": "code",
   "execution_count": null,
   "id": "aerial-slovak",
   "metadata": {},
   "outputs": [],
   "source": [
    "# Runtime: 56 ms, faster than 49.75% of Python3 online submissions for Richest Customer Wealth.\n",
    "# Memory Usage: 14.4 MB, less than 29.90% of Python3 online submissions for Richest Customer Wealth.   \n",
    "\n",
    "# Time Complexity: 0(N) for loop * 0(M) list sum = 0(N*M)\n",
    "# Space Complexity: 0(1)\n",
    "\n",
    "# Self - Written\n",
    "\n",
    "class Solution:\n",
    "    def maximumWealth(self, accounts: List[List[int]]) -> int:\n",
    "        wealth = 0\n",
    "        for account in accounts:\n",
    "            if sum(account) > wealth:\n",
    "                wealth = sum(account)\n",
    "            else:\n",
    "                continue\n",
    "        return wealth"
   ]
  },
  {
   "cell_type": "code",
   "execution_count": null,
   "id": "sorted-sheet",
   "metadata": {},
   "outputs": [],
   "source": [
    "# Leetcode User Solution\n",
    "# Pythonic Solution\n",
    "\n",
    "def maximumWealth(self, accounts):\n",
    "        return max(map(sum, accounts))"
   ]
  },
  {
   "cell_type": "code",
   "execution_count": null,
   "id": "hawaiian-swiss",
   "metadata": {},
   "outputs": [],
   "source": [
    "# Runtime: 52 ms, faster than 77.74% of Python3 online submissions for Richest Customer Wealth.\n",
    "# Memory Usage: 14.5 MB, less than 29.90% of Python3 online submissions for Richest Customer Wealth.\n",
    "\n",
    "# Why not to use loop instead of map function?\n",
    "# This solution internally is creating an iterable (most probably list) and return the max value in that list.\n",
    "# So, this solution do take O(N) space.\n",
    "\n",
    "class Solution:\n",
    "    def maximumWealth(self, accounts: List[List[int]]) -> int:\n",
    "        return max(sum(account) for account in accounts)"
   ]
  },
  {
   "cell_type": "code",
   "execution_count": null,
   "id": "compatible-bunch",
   "metadata": {},
   "outputs": [],
   "source": [
    "# One more Leetcode solution\n",
    "\n",
    "# Considering the list as matrix. This approach is what we need to use in other programming language, as we can't run a\n",
    "# for loop like (for account in accounts:) in other languages. That's why Python is love for me :)\n",
    "\n",
    "class Solution:\n",
    "    def maximumWealth(self, accounts: List[List[int]]) -> int:\n",
    "        ans=0\n",
    "        row=len(accounts) #counts the number of rows\n",
    "        col=len(accounts[0]) #counts the number of columns \n",
    "        output=[]\n",
    "        for i in range(row):\n",
    "            for j in range(col):\n",
    "                ans+=accounts[i][j]\n",
    "            output.append(ans)\n",
    "            ans=0\n",
    "        return max(output)"
   ]
  }
 ],
 "metadata": {
  "kernelspec": {
   "display_name": "Python 3",
   "language": "python",
   "name": "python3"
  },
  "language_info": {
   "codemirror_mode": {
    "name": "ipython",
    "version": 3
   },
   "file_extension": ".py",
   "mimetype": "text/x-python",
   "name": "python",
   "nbconvert_exporter": "python",
   "pygments_lexer": "ipython3",
   "version": "3.9.1"
  }
 },
 "nbformat": 4,
 "nbformat_minor": 5
}
