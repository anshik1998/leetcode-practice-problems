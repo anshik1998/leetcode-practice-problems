{
 "cells": [
  {
   "cell_type": "code",
   "execution_count": 13,
   "id": "monetary-feature",
   "metadata": {},
   "outputs": [
    {
     "name": "stdout",
     "output_type": "stream",
     "text": [
      "0 121 121\n",
      "True\n"
     ]
    }
   ],
   "source": [
    "# Runtime: 68 ms, faster than 47.86% of Python3 online submissions for Palindrome Number.\n",
    "# Memory Usage: 14.1 MB, less than 79.65% of Python3 online submissions for Palindrome Number.\n",
    "\n",
    "class Solution:\n",
    "    def isPalindrome(self, x: int) -> bool:\n",
    "        \n",
    "        if x < 0:\n",
    "            return False\n",
    "        y = x\n",
    "        x2 = 0\n",
    "        while(x != 0):\n",
    "            x2 = x2 * 10 + x % 10\n",
    "            x = x // 10\n",
    "        if y == x2:\n",
    "            return True\n",
    "        else:\n",
    "            return False\n",
    "\n",
    "print(Solution.isPalindrome(Solution, 121))"
   ]
  },
  {
   "cell_type": "code",
   "execution_count": 25,
   "id": "collect-jonathan",
   "metadata": {},
   "outputs": [
    {
     "name": "stdout",
     "output_type": "stream",
     "text": [
      "58 58\n",
      "True\n"
     ]
    }
   ],
   "source": [
    "# Runtime: 68 ms, faster than 47.86% of Python3 online submissions for Palindrome Number.\n",
    "# Memory Usage: 14.1 MB, less than 79.65% of Python3 online submissions for Palindrome Number.\n",
    "\n",
    "class Solution:\n",
    "    def isPalindrome(x):\n",
    "        if x < 0 or (x > 0 and x % 10 == 0):\n",
    "            return False\n",
    "        result = 0\n",
    "        while x > result:\n",
    "            result = result * 10 + x % 10\n",
    "            x = x // 10\n",
    "            \n",
    "        return True if (x == result or x == result // 10) else False\n",
    "    \n",
    "print(isPalindrome(9875))"
   ]
  },
  {
   "cell_type": "code",
   "execution_count": null,
   "id": "attractive-mongolia",
   "metadata": {},
   "outputs": [],
   "source": []
  }
 ],
 "metadata": {
  "kernelspec": {
   "display_name": "Python 3",
   "language": "python",
   "name": "python3"
  },
  "language_info": {
   "codemirror_mode": {
    "name": "ipython",
    "version": 3
   },
   "file_extension": ".py",
   "mimetype": "text/x-python",
   "name": "python",
   "nbconvert_exporter": "python",
   "pygments_lexer": "ipython3",
   "version": "3.9.1"
  }
 },
 "nbformat": 4,
 "nbformat_minor": 5
}
