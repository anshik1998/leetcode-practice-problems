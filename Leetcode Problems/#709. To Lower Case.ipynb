{
 "cells": [
  {
   "cell_type": "markdown",
   "id": "dominican-jones",
   "metadata": {},
   "source": [
    "# Python Solution"
   ]
  },
  {
   "cell_type": "markdown",
   "id": "least-shield",
   "metadata": {},
   "source": [
    "\n"
   ]
  },
  {
   "cell_type": "code",
   "execution_count": null,
   "id": "tested-server",
   "metadata": {},
   "outputs": [],
   "source": [
    "# Given Problem:\n",
    "\n",
    "# Implement function ToLowerCase() that has a string parameter str, and returns the same string in lowercase."
   ]
  },
  {
   "cell_type": "markdown",
   "id": "iraqi-usage",
   "metadata": {},
   "source": [
    "\n"
   ]
  },
  {
   "cell_type": "code",
   "execution_count": null,
   "id": "coated-mining",
   "metadata": {},
   "outputs": [],
   "source": [
    "# Runtime: 24 ms, faster than 93.05% of Python3 online submissions for To Lower Case.\n",
    "# Memory Usage: 14.3 MB, less than 39.41% of Python3 online submissions for To Lower Case.\n",
    "\n",
    "# Time Complexity: O(N)\n",
    "# Space Complexity: O(1)\n",
    "# Self Written\n",
    "\n",
    "class Solution:\n",
    "    def toLowerCase(self, str: str) -> str:\n",
    "        str = list(str)\n",
    "        for index in range(len(str)):\n",
    "            if str[index].isupper():\n",
    "                str[index] = str[index].lower()\n",
    "                \n",
    "        return ''.join(str)"
   ]
  },
  {
   "cell_type": "code",
   "execution_count": null,
   "id": "dynamic-brunei",
   "metadata": {},
   "outputs": [],
   "source": [
    "# Runtime: 32 ms, faster than 49.98% of Python3 online submissions for To Lower Case.\n",
    "# Memory Usage: 14.2 MB, less than 39.41% of Python3 online submissions for To Lower Case.\n",
    "\n",
    "# A quick note to myself: Creating a new list to affect the runtime.\n",
    "\n",
    "\n",
    "class Solution:\n",
    "    def toLowerCase(self, str: str) -> str:\n",
    "        lst = list(str)\n",
    "        for index in range(len(lst)):\n",
    "            if lst[index].isupper():\n",
    "                lst[index] = lst[index].lower()\n",
    "                \n",
    "        return ''.join(lst)"
   ]
  },
  {
   "cell_type": "code",
   "execution_count": null,
   "id": "exact-nerve",
   "metadata": {},
   "outputs": [],
   "source": [
    "# Leetcode Solution\n",
    "# Based on ASCII Values\n",
    "\n",
    "class Solution:\n",
    "    def toLowerCase(self, str): \n",
    "        return \"\".join(chr(ord(c) + 32) if 65 <= ord(c) <= 90 else c for c in str)"
   ]
  }
 ],
 "metadata": {
  "kernelspec": {
   "display_name": "Python 3",
   "language": "python",
   "name": "python3"
  },
  "language_info": {
   "codemirror_mode": {
    "name": "ipython",
    "version": 3
   },
   "file_extension": ".py",
   "mimetype": "text/x-python",
   "name": "python",
   "nbconvert_exporter": "python",
   "pygments_lexer": "ipython3",
   "version": "3.9.1"
  }
 },
 "nbformat": 4,
 "nbformat_minor": 5
}
