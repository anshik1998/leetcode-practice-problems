{
 "cells": [
  {
   "cell_type": "markdown",
   "id": "round-cleaner",
   "metadata": {},
   "source": [
    "# Python Solution"
   ]
  },
  {
   "cell_type": "code",
   "execution_count": null,
   "id": "oriental-yield",
   "metadata": {},
   "outputs": [],
   "source": [
    "# Given Problem:\n",
    "\n",
    "# There is a biker going on a road trip. \n",
    "# The road trip consists of n + 1 points at different altitudes. \n",
    "# The biker starts his trip on point 0 with altitude equal 0.\n",
    "\n",
    "# You are given an integer array gain of length n where gain[i] \n",
    "# is the net gain in altitude between points i​​​​​​ and i + 1 for all (0 <= i < n). \n",
    "# Return the highest altitude of a point."
   ]
  },
  {
   "cell_type": "code",
   "execution_count": 2,
   "id": "painted-synthetic",
   "metadata": {},
   "outputs": [
    {
     "name": "stdout",
     "output_type": "stream",
     "text": [
      "[0, -5, -4, 1, 1, -6]\n",
      "1\n"
     ]
    }
   ],
   "source": [
    "# Time Complexity: O(N)\n",
    "# Space Complexity: O(N)\n",
    "\n",
    "# Self-Written\n",
    "\n",
    "from typing import List\n",
    "class Solution:\n",
    "    def largestAltitude(self, gain: List[int]) -> int:\n",
    "        lst = [0]\n",
    "        for i in range(len(gain)):\n",
    "            lst.append(lst[i] + gain[i])\n",
    "            \n",
    "        return max(lst)\n",
    "    \n",
    "print(Solution.largestAltitude(Solution, [-5,1,5,0,-7]))"
   ]
  },
  {
   "cell_type": "code",
   "execution_count": 6,
   "id": "thrown-tuner",
   "metadata": {},
   "outputs": [
    {
     "name": "stdout",
     "output_type": "stream",
     "text": [
      "[0, -5, 1, 5, 0, -7]\n",
      "[0, -5, -4, 1, 1, -6]\n",
      "1\n"
     ]
    }
   ],
   "source": [
    "# Time Complexity: O(N)\n",
    "# Space Complexity: O(1) Inplace\n",
    "\n",
    "# Self-Written\n",
    "\n",
    "from typing import List\n",
    "class Solution:\n",
    "    def largestAltitude(self, gain: List[int]) -> int:\n",
    "        gain.insert(0, 0)\n",
    "        for i in range(1, len(gain)):\n",
    "            gain[i] = gain[i-1] + gain[i]\n",
    "            \n",
    "        return max(gain)\n",
    "    \n",
    "print(Solution.largestAltitude(Solution, [-5,1,5,0,-7]))"
   ]
  }
 ],
 "metadata": {
  "kernelspec": {
   "display_name": "Python 3",
   "language": "python",
   "name": "python3"
  },
  "language_info": {
   "codemirror_mode": {
    "name": "ipython",
    "version": 3
   },
   "file_extension": ".py",
   "mimetype": "text/x-python",
   "name": "python",
   "nbconvert_exporter": "python",
   "pygments_lexer": "ipython3",
   "version": "3.9.1"
  }
 },
 "nbformat": 4,
 "nbformat_minor": 5
}
