{
 "cells": [
  {
   "cell_type": "markdown",
   "id": "greenhouse-index",
   "metadata": {},
   "source": [
    "# Python Solution"
   ]
  },
  {
   "cell_type": "markdown",
   "id": "bronze-collector",
   "metadata": {},
   "source": [
    "\n"
   ]
  },
  {
   "cell_type": "code",
   "execution_count": null,
   "id": "shared-miami",
   "metadata": {},
   "outputs": [],
   "source": [
    "# Given Problem\n",
    "\n",
    "# A valid parentheses string is either empty (\"\"), \"(\" + A + \")\", or A + B, \n",
    "# where A and B are valid parentheses strings, and + represents string concatenation.  \n",
    "# For example, \"\", \"()\", \"(())()\", and \"(()(()))\" are all valid parentheses strings.\n",
    "\n",
    "# A valid parentheses string S is primitive if it is nonempty, \n",
    "# and there does not exist a way to split it into S = A+B, with A and B nonempty valid parentheses strings.\n",
    "\n",
    "# Given a valid parentheses string S, consider its primitive decomposition: S = P_1 + P_2 + ... + P_k, \n",
    "# where P_i are primitive valid parentheses strings.\n",
    "\n",
    "# Return S after removing the outermost parentheses of every primitive string in the primitive decomposition of S."
   ]
  },
  {
   "cell_type": "markdown",
   "id": "realistic-spring",
   "metadata": {},
   "source": [
    "\n"
   ]
  },
  {
   "cell_type": "code",
   "execution_count": null,
   "id": "blind-resolution",
   "metadata": {},
   "outputs": [],
   "source": [
    "# Runtime: 24 ms, faster than 99.73% of Python3 online submissions for Remove Outermost Parentheses.\n",
    "# Memory Usage: 14.3 MB, less than 86.08% of Python3 online submissions for Remove Outermost Parentheses.\n",
    "\n",
    "# Time Complexity: O(N)\n",
    "# Space Complexity: O(N)\n",
    "\n",
    "class Solution:\n",
    "    def removeOuterParentheses(self, S: str) -> str:\n",
    "        result, opened = [], 0\n",
    "        for c in S:\n",
    "            opened += 1 if c == '(' else -1\n",
    "            if c == '(' and opened > 1: result.append(c)\n",
    "            if c == ')' and opened > 0: result.append(c)\n",
    "            \n",
    "            \n",
    "        return \"\".join(result)"
   ]
  }
 ],
 "metadata": {
  "kernelspec": {
   "display_name": "Python 3",
   "language": "python",
   "name": "python3"
  },
  "language_info": {
   "codemirror_mode": {
    "name": "ipython",
    "version": 3
   },
   "file_extension": ".py",
   "mimetype": "text/x-python",
   "name": "python",
   "nbconvert_exporter": "python",
   "pygments_lexer": "ipython3",
   "version": "3.9.1"
  }
 },
 "nbformat": 4,
 "nbformat_minor": 5
}
