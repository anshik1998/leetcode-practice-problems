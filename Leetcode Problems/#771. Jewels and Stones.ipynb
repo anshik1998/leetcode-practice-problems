{
 "cells": [
  {
   "cell_type": "markdown",
   "id": "documentary-primary",
   "metadata": {},
   "source": [
    "# Python Solution"
   ]
  },
  {
   "cell_type": "markdown",
   "id": "ordered-yukon",
   "metadata": {},
   "source": [
    "\n"
   ]
  },
  {
   "cell_type": "code",
   "execution_count": null,
   "id": "quality-leadership",
   "metadata": {},
   "outputs": [],
   "source": [
    "# Given Problem:\n",
    "\n",
    "# You're given strings jewels representing the types of stones that are jewels, \n",
    "# and stones representing the stones you have. Each character in stones is a type of stone you have. \n",
    "# You want to know how many of the stones you have are also jewels.\n",
    "\n",
    "# Letters are case sensitive, so \"a\" is considered a different type of stone from \"A\"."
   ]
  },
  {
   "cell_type": "markdown",
   "id": "important-retreat",
   "metadata": {},
   "source": [
    "\n"
   ]
  },
  {
   "cell_type": "code",
   "execution_count": null,
   "id": "nasty-pharmacy",
   "metadata": {},
   "outputs": [],
   "source": [
    "# Runtime: 32 ms, faster than 63.11% of Python3 online submissions for Jewels and Stones.\n",
    "# Memory Usage: 14.2 MB, less than 48.17% of Python3 online submissions for Jewels and Stones.\n",
    "\n",
    "# Time Complexity: O(N), where, N = # of stone\n",
    "# Space Complexity: O(1), or O(M), where, M = # of jewel\n",
    "# O(M) considering dict creation for jewels, but as it's an inplace operation, it might be O(1).\n",
    "\n",
    "# Self-Written\n",
    "\n",
    "class Solution:\n",
    "    def numJewelsInStones(self, jewels: str, stones: str) -> int:\n",
    "        jewels = dict(zip(list(jewels), range(len(jewels))))\n",
    "        # or, jewels = set(jewels) # As, sets are too implemented using hash function & lookup / insert / delete takes O(1)\n",
    "        count = 0\n",
    "        for stone in stones:\n",
    "            if stone in jewels:\n",
    "                count += 1\n",
    "        return count"
   ]
  }
 ],
 "metadata": {
  "kernelspec": {
   "display_name": "Python 3",
   "language": "python",
   "name": "python3"
  },
  "language_info": {
   "codemirror_mode": {
    "name": "ipython",
    "version": 3
   },
   "file_extension": ".py",
   "mimetype": "text/x-python",
   "name": "python",
   "nbconvert_exporter": "python",
   "pygments_lexer": "ipython3",
   "version": "3.9.1"
  }
 },
 "nbformat": 4,
 "nbformat_minor": 5
}
