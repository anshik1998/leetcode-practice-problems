{
 "cells": [
  {
   "cell_type": "code",
   "execution_count": null,
   "id": "driving-darwin",
   "metadata": {},
   "outputs": [],
   "source": [
    "# Your runtime beats 94.09 % of python3 submissions\n",
    "# Runtime: 52 ms\n",
    "# Memory Usage: 14.5 MB\n",
    "\n",
    "# Time Complexity: O(N)\n",
    "# Space Complexity: O(1)\n",
    "\n",
    "class Solution:\n",
    "    def function(self, points):\n",
    "        result = 0\n",
    "        for index in range(len(points) - 1):\n",
    "            current, next = points[index : index + 2]\n",
    "            result += max(map(abs, (next[0] - current[0], next[1] - current[1])))\n",
    "        return result"
   ]
  },
  {
   "cell_type": "code",
   "execution_count": null,
   "id": "willing-occasion",
   "metadata": {},
   "outputs": [],
   "source": [
    "# Runtime: 60 ms, faster than 60.76% of Python3 online submissions for Minimum Time Visiting All Points.\n",
    "# Memory Usage: 14.4 MB, less than 38.77% of Python3 online submissions for Minimum Time Visiting All Points.\n",
    "\n",
    "class Solution:\n",
    "    def minTimeToVisitAllPoints(self, points):\n",
    "        result = 0\n",
    "        for index in range(len(points) - 1):\n",
    "            result += max(map(abs, (points[index][0] - points[index+1][0], points[index][1] - points[index+1][1])))\n",
    "        return result"
   ]
  },
  {
   "cell_type": "code",
   "execution_count": null,
   "id": "later-thought",
   "metadata": {},
   "outputs": [],
   "source": [
    "# This idea is literally lit! \n",
    "# While loop + list.pop !\n",
    "\n",
    "class Solution:\n",
    "    def minTimeToVisitAllPoints(self, points: List[List[int]]) -> int:\n",
    "        res = 0\n",
    "        x1, y1 = points.pop()\n",
    "        while points:\n",
    "            x2, y2 = points.pop()\n",
    "            res += max(abs(y2 - y1), abs(x2-x1))\n",
    "            x1, y1 = x2, y2\n",
    "        return res"
   ]
  }
 ],
 "metadata": {
  "kernelspec": {
   "display_name": "Python 3",
   "language": "python",
   "name": "python3"
  },
  "language_info": {
   "codemirror_mode": {
    "name": "ipython",
    "version": 3
   },
   "file_extension": ".py",
   "mimetype": "text/x-python",
   "name": "python",
   "nbconvert_exporter": "python",
   "pygments_lexer": "ipython3",
   "version": "3.9.1"
  }
 },
 "nbformat": 4,
 "nbformat_minor": 5
}
