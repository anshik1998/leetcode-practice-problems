{
 "cells": [
  {
   "cell_type": "markdown",
   "id": "british-kennedy",
   "metadata": {},
   "source": [
    "# Python Solution"
   ]
  },
  {
   "cell_type": "markdown",
   "id": "electoral-covering",
   "metadata": {},
   "source": [
    "\n"
   ]
  },
  {
   "cell_type": "code",
   "execution_count": null,
   "id": "downtown-european",
   "metadata": {},
   "outputs": [],
   "source": [
    "# Given Problem:\n",
    "\n",
    "# Given the array prices where prices[i] is the price of the ith item in a shop. \n",
    "# There is a special discount for items in the shop, if you buy the ith item, \n",
    "# then you will receive a discount equivalent to prices[j] where j is the minimum index such that j > i \n",
    "# and prices[j] <= prices[i], otherwise, you will not receive any discount at all.\n",
    "\n",
    "# Return an array where the ith element is the final price you will pay for the ith item of the shop \n",
    "# considering the special discount."
   ]
  },
  {
   "cell_type": "markdown",
   "id": "wrapped-enough",
   "metadata": {},
   "source": [
    "\n"
   ]
  },
  {
   "cell_type": "code",
   "execution_count": 34,
   "id": "mobile-banana",
   "metadata": {},
   "outputs": [
    {
     "name": "stdout",
     "output_type": "stream",
     "text": [
      "[4, 1, 1, 2, 4, 5]\n",
      "-0.0012916000005134265\n"
     ]
    }
   ],
   "source": [
    "# Runtime: 52 ms, faster than 74.83% of Python3 online submissions for Final Prices With a Special Discount in a Shop.\n",
    "# Memory Usage: 14.5 MB, less than 21.05% of Python3 online submissions for Final Prices With a Special Discount in a Shop.\n",
    "\n",
    "# Self-Written Solution\n",
    "\n",
    "# Time Complexity: O(N^2) [WORST CASE]\n",
    "# Space Complexity: O(N)\n",
    "\n",
    "import timeit\n",
    "from typing import List\n",
    "\n",
    "start = timeit.timeit()\n",
    "\n",
    "class Solution:\n",
    "    def finalPrices(self, prices: List[int]) -> List[int]:\n",
    "        result = []\n",
    "        try:\n",
    "            for index in range(len(prices)):\n",
    "                if prices[index] >= prices[index+1]:\n",
    "                    result.append(prices[index]-prices[index+1])\n",
    "                elif prices[index] < prices[index+1]:\n",
    "                    for i in range(index+1, len(prices)):\n",
    "                        if prices[index] >= prices[i]:\n",
    "                            result.append(prices[index]- prices[i])\n",
    "                            break\n",
    "                        else:\n",
    "                            continue\n",
    "                    if len(result) == index:\n",
    "                        result.append(prices[index])\n",
    "        except IndexError:\n",
    "            result.append(prices[index])\n",
    "                        \n",
    "        return result\n",
    "\n",
    "\n",
    "print(Solution.finalPrices(Solution, [4, 6, 8, 7, 9, 5]))\n",
    "end = timeit.timeit()\n",
    "print(end-start)"
   ]
  },
  {
   "cell_type": "code",
   "execution_count": 35,
   "id": "analyzed-console",
   "metadata": {},
   "outputs": [
    {
     "name": "stdout",
     "output_type": "stream",
     "text": [
      "[4, 1, 1, 2, 4, 5]\n",
      "-0.0016347000000678236\n"
     ]
    }
   ],
   "source": [
    "# Inplace Solution\n",
    "\n",
    "# Self-Written Solution\n",
    "\n",
    "# Time Complexity: O(N^2) [WORST CASE]\n",
    "# Space Complexity: O(1)\n",
    "\n",
    "import timeit\n",
    "from typing import List\n",
    "start = timeit.timeit()\n",
    "\n",
    "class Solution:\n",
    "    def finalPrices(self, prices: List[int]) -> List[int]:\n",
    "        try:\n",
    "            for index in range(len(prices)):\n",
    "                if prices[index] >= prices[index+1]:\n",
    "                    prices[index] = prices[index]-prices[index+1]\n",
    "                elif prices[index] < prices[index+1]:\n",
    "                    for i in range(index+1, len(prices)):\n",
    "                        if prices[index] >= prices[i]:\n",
    "                            prices[index] = prices[index]- prices[i]\n",
    "                            break\n",
    "                        else:\n",
    "                            continue\n",
    "        except IndexError:\n",
    "            pass\n",
    "                        \n",
    "        return prices\n",
    "\n",
    "\n",
    "print(Solution.finalPrices(Solution, [4, 6, 8, 7, 9, 5]))\n",
    "end = timeit.timeit()\n",
    "print(end-start)"
   ]
  },
  {
   "cell_type": "code",
   "execution_count": 36,
   "id": "middle-bennett",
   "metadata": {},
   "outputs": [
    {
     "name": "stdout",
     "output_type": "stream",
     "text": [
      "[4, 1, 1, 2, 4, 5]\n",
      "0.0006535999996231112\n"
     ]
    }
   ],
   "source": [
    "# LeetCode Solution\n",
    "\n",
    "# Time Complexity: O(N)\n",
    "# Space Complexity: O(N)\n",
    "\n",
    "import timeit\n",
    "from typing import List\n",
    "\n",
    "start = timeit.timeit()\n",
    "class Solution:\n",
    "    def finalPrices(self, prices: List[int]) -> List[int]:\n",
    "            res, stack = prices[:], []\n",
    "            for i, price in enumerate(prices):\n",
    "                while stack and prices[stack[-1]] >= price:\n",
    "                    res[stack.pop()] -= price\n",
    "                stack.append(i)\n",
    "            return res\n",
    "        \n",
    "\n",
    "print(Solution.finalPrices(Solution, [4, 6, 8, 7, 9, 5]))\n",
    "end = timeit.timeit()\n",
    "print(end-start)"
   ]
  },
  {
   "cell_type": "code",
   "execution_count": 26,
   "id": "final-chicago",
   "metadata": {},
   "outputs": [
    {
     "data": {
      "text/plain": [
       "True"
      ]
     },
     "execution_count": 26,
     "metadata": {},
     "output_type": "execute_result"
    }
   ],
   "source": [
    "(-0.0016991000002235523) < (0.0004482999997890147)\n",
    "\n",
    "# My solution seems faster..! Yipeee! \n",
    "# Wait, But no, my solution is O(N^2)."
   ]
  },
  {
   "cell_type": "code",
   "execution_count": null,
   "id": "constant-option",
   "metadata": {},
   "outputs": [],
   "source": []
  }
 ],
 "metadata": {
  "kernelspec": {
   "display_name": "Python 3",
   "language": "python",
   "name": "python3"
  },
  "language_info": {
   "codemirror_mode": {
    "name": "ipython",
    "version": 3
   },
   "file_extension": ".py",
   "mimetype": "text/x-python",
   "name": "python",
   "nbconvert_exporter": "python",
   "pygments_lexer": "ipython3",
   "version": "3.9.1"
  }
 },
 "nbformat": 4,
 "nbformat_minor": 5
}
