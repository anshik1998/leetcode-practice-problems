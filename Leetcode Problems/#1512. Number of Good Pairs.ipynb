{
 "cells": [
  {
   "cell_type": "markdown",
   "id": "detailed-alliance",
   "metadata": {},
   "source": [
    "# Python Solution"
   ]
  },
  {
   "cell_type": "markdown",
   "id": "vertical-knight",
   "metadata": {},
   "source": [
    "\n"
   ]
  },
  {
   "cell_type": "code",
   "execution_count": null,
   "id": "worst-journalist",
   "metadata": {},
   "outputs": [],
   "source": [
    "# Given Problem:\n",
    "\n",
    "# Given an array of integers nums.\n",
    "# A pair (i,j) is called good if nums[i] == nums[j] and i < j.\n",
    "# Return the number of good pairs."
   ]
  },
  {
   "cell_type": "markdown",
   "id": "sharp-opening",
   "metadata": {},
   "source": [
    "\n"
   ]
  },
  {
   "cell_type": "code",
   "execution_count": null,
   "id": "adequate-circumstances",
   "metadata": {},
   "outputs": [],
   "source": [
    "# Runtime: 36 ms, faster than 47.67% of Python3 online submissions for Number of Good Pairs.\n",
    "# Memory Usage: 14 MB, less than 91.47% of Python3 online submissions for Number of Good Pairs.\n",
    "\n",
    "# Brute Force Solution\n",
    "\n",
    "# Time Complexity: O(N^2) two for loops\n",
    "# Space Complexity: O(1), just count variable used.\n",
    "\n",
    "class Solution:\n",
    "    def numIdenticalPairs(self, nums: List[int]) -> int:\n",
    "        count = 0\n",
    "        for i in range(len(nums)):\n",
    "            for j in range(1, len(nums)):\n",
    "                if nums[i] == nums[j] and i < j:\n",
    "                    count += 1\n",
    "                else:\n",
    "                    continue\n",
    "                    \n",
    "        return count"
   ]
  },
  {
   "cell_type": "code",
   "execution_count": 29,
   "id": "discrete-smith",
   "metadata": {},
   "outputs": [
    {
     "name": "stdout",
     "output_type": "stream",
     "text": [
      "9\n"
     ]
    }
   ],
   "source": [
    "# Self-Written Code\n",
    "\n",
    "# Time Complexity: O(N LOGN) + O(N) + O(N) = O(N LOGN) [WORST CASE]\n",
    "# Space Complexity: O(N) [WORST CASE]\n",
    "\n",
    "class Solution:\n",
    "    def numIdenticalPairs(self, nums):\n",
    "        count = 1\n",
    "        result = 0\n",
    "        nums.sort()\n",
    "        di = {}\n",
    "        for value in range(len(nums)):\n",
    "            if nums[value] in di:\n",
    "                count += 1\n",
    "                di[nums[value]] = count\n",
    "            elif value not in di:\n",
    "                count = 1\n",
    "                di[nums[value]] = count\n",
    "        for value in di.values():\n",
    "            temp = Solution.sum1(self, value)\n",
    "            result += temp\n",
    "            \n",
    "        return result\n",
    "   \n",
    "    def sum1(self, n):\n",
    "        if n == 1:\n",
    "            return 0\n",
    "        elif n == 2:\n",
    "            return 1\n",
    "        else:\n",
    "            return (n-1) + Solution.sum1(self, n-1)\n",
    "        \n",
    "print(Solution.numIdenticalPairs(Solution, [1,2,3,1,1,3]))"
   ]
  },
  {
   "cell_type": "code",
   "execution_count": null,
   "id": "attractive-perception",
   "metadata": {},
   "outputs": [],
   "source": [
    "# LeetCode Solution\n",
    "\n",
    "# Time Complexity: O(N)\n",
    "# Space Complexity: O(N) [WORST CASE]\n",
    "\n",
    "\n",
    "class Solution:\n",
    "    def numIdenticalPairs(self, nums: List[int]) -> int:       \n",
    "        repeat = {}\n",
    "        num = 0\n",
    "        for value in nums:\n",
    "            if value in repeat:\n",
    "                if repeat[value] == 1:\n",
    "                    num = num + 1\n",
    "                else:\n",
    "                    num = num + repeat[value]\n",
    "                repeat[value] =  repeat[value] + 1\n",
    "            else:\n",
    "                repeat[value] = 1\n",
    "        \n",
    "        return num\n",
    "\n",
    "    \n",
    "# Dry Run: [1,2,3,1,1,3]\n",
    "\n",
    "# repeat[1] = 1, num = 0\n",
    "# repeat[2] = 1, num = 0\n",
    "# repeat[3] = 1, num = 0\n",
    "# repeat[1] = 2, num = 1\n",
    "# repeat[1] = 3, num = 3\n",
    "# repeat[3] = 2, num = 4"
   ]
  }
 ],
 "metadata": {
  "kernelspec": {
   "display_name": "Python 3",
   "language": "python",
   "name": "python3"
  },
  "language_info": {
   "codemirror_mode": {
    "name": "ipython",
    "version": 3
   },
   "file_extension": ".py",
   "mimetype": "text/x-python",
   "name": "python",
   "nbconvert_exporter": "python",
   "pygments_lexer": "ipython3",
   "version": "3.9.1"
  }
 },
 "nbformat": 4,
 "nbformat_minor": 5
}
