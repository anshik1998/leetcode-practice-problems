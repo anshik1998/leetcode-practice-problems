{
 "cells": [
  {
   "cell_type": "markdown",
   "id": "upper-potential",
   "metadata": {},
   "source": [
    "# Python Solution"
   ]
  },
  {
   "cell_type": "markdown",
   "id": "chronic-mirror",
   "metadata": {},
   "source": [
    "\n"
   ]
  },
  {
   "cell_type": "code",
   "execution_count": null,
   "id": "supreme-controversy",
   "metadata": {},
   "outputs": [],
   "source": [
    "# Given Problem:\n",
    "\n",
    "# Students are asked to stand in non-decreasing order of heights for an annual photo.\n",
    "# Return the minimum number of students that must move in order \n",
    "# for all students to be standing in non-decreasing order of height.\n",
    "\n",
    "# Notice that when a group of students is selected they can reorder in any possible way \n",
    "# between themselves and the non selected students remain on their seats."
   ]
  },
  {
   "cell_type": "markdown",
   "id": "beautiful-occasion",
   "metadata": {},
   "source": [
    "\n"
   ]
  },
  {
   "cell_type": "code",
   "execution_count": null,
   "id": "aging-stretch",
   "metadata": {},
   "outputs": [],
   "source": [
    "# Time Complexity: O(N * LOGN)\n",
    "# Space Complexity: O(N)\n",
    "\n",
    "# Runtime: 32 ms, faster than 88.31% of Python3 online submissions for Height Checker.\n",
    "# Memory Usage: 14.1 MB, less than 91.35% of Python3 online submissions for Height Checker.\n",
    "\n",
    "class Solution:\n",
    "    def heightChecker(self, heights: List[int]) -> int:\n",
    "        sorted_heights = sorted(heights)\n",
    "        count = 0\n",
    "        for i in range(len(heights)):\n",
    "            if heights[i] != sorted_heights[i]:\n",
    "                count += 1\n",
    "                \n",
    "        return count"
   ]
  }
 ],
 "metadata": {
  "kernelspec": {
   "display_name": "Python 3",
   "language": "python",
   "name": "python3"
  },
  "language_info": {
   "codemirror_mode": {
    "name": "ipython",
    "version": 3
   },
   "file_extension": ".py",
   "mimetype": "text/x-python",
   "name": "python",
   "nbconvert_exporter": "python",
   "pygments_lexer": "ipython3",
   "version": "3.9.1"
  }
 },
 "nbformat": 4,
 "nbformat_minor": 5
}
